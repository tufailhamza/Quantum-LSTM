{
  "nbformat": 4,
  "nbformat_minor": 0,
  "metadata": {
    "colab": {
      "provenance": [],
      "gpuType": "T4"
    },
    "kernelspec": {
      "name": "python3",
      "display_name": "Python 3"
    },
    "language_info": {
      "name": "python"
    },
    "accelerator": "GPU",
    "gpuClass": "standard"
  },
  "cells": [
    {
      "cell_type": "code",
      "source": [
        "!pip install pennylane"
      ],
      "metadata": {
        "id": "zXGXyvm2Npx0"
      },
      "execution_count": null,
      "outputs": []
    },
    {
      "cell_type": "code",
      "execution_count": null,
      "metadata": {
        "id": "5N6QodPOzxMB"
      },
      "outputs": [],
      "source": [
        "# dependencies\n",
        "\n",
        "import numpy as np\n",
        "import torch\n",
        "import torch.nn as nn\n",
        "import torch.nn.functional as F\n",
        "import torch.optim as optim\n",
        "device = torch.device(\"cuda\" if torch.cuda.is_available() else \"cpu\")\n",
        "from torch.utils.data import DataLoader,Dataset\n",
        "from tqdm import tqdm\n",
        "from torch.nn.utils.rnn import pad_sequence\n",
        "# from qlstm_pennylane import QLSTM"
      ]
    },
    {
      "cell_type": "code",
      "source": [
        "from google.colab import drive\n",
        "drive.mount('/content/drive')\n"
      ],
      "metadata": {
        "colab": {
          "base_uri": "https://localhost:8080/"
        },
        "id": "rkZUwSVLaO-M",
        "outputId": "e595aa12-e60b-49df-c776-6cf4641e18fd"
      },
      "execution_count": null,
      "outputs": [
        {
          "output_type": "stream",
          "name": "stdout",
          "text": [
            "Mounted at /content/drive\n"
          ]
        }
      ]
    },
    {
      "cell_type": "code",
      "source": [
        "!tar -xf /content/drive/MyDrive/aclImdb_v1.tar.gz"
      ],
      "metadata": {
        "id": "US09aQwVahQJ"
      },
      "execution_count": null,
      "outputs": []
    },
    {
      "cell_type": "code",
      "source": [
        "import torch\n",
        "import torch.nn as nn\n",
        "\n",
        "import pennylane as qml\n",
        "\n",
        "\n",
        "class QLSTM(nn.Module):\n",
        "    def __init__(self,\n",
        "                input_size,\n",
        "                hidden_size,\n",
        "                n_qubits=4,\n",
        "                n_qlayers=1,\n",
        "                batch_first=True,\n",
        "                return_sequences=False,\n",
        "                return_state=False,\n",
        "                backend=\"default.qubit\"):\n",
        "        super(QLSTM, self).__init__()\n",
        "        self.n_inputs = input_size\n",
        "        self.hidden_size = hidden_size\n",
        "        self.concat_size = self.n_inputs + self.hidden_size\n",
        "        self.n_qubits = n_qubits\n",
        "        self.n_qlayers = n_qlayers\n",
        "        self.backend = backend  # \"default.qubit\", \"qiskit.basicaer\", \"qiskit.ibm\"\n",
        "\n",
        "        self.batch_first = batch_first\n",
        "        self.return_sequences = return_sequences\n",
        "        self.return_state = return_state\n",
        "\n",
        "        #self.dev = qml.device(\"default.qubit\", wires=self.n_qubits)\n",
        "        #self.dev = qml.device('qiskit.basicaer', wires=self.n_qubits)\n",
        "        #self.dev = qml.device('qiskit.ibm', wires=self.n_qubits)\n",
        "        # use 'qiskit.ibmq' instead to run on hardware\n",
        "\n",
        "        self.wires_forget = [f\"wire_forget_{i}\" for i in range(self.n_qubits)]\n",
        "        self.wires_input = [f\"wire_input_{i}\" for i in range(self.n_qubits)]\n",
        "        self.wires_update = [f\"wire_update_{i}\" for i in range(self.n_qubits)]\n",
        "        self.wires_output = [f\"wire_output_{i}\" for i in range(self.n_qubits)]\n",
        "\n",
        "        self.dev_forget = qml.device(self.backend, wires=self.wires_forget)\n",
        "        self.dev_input = qml.device(self.backend, wires=self.wires_input)\n",
        "        self.dev_update = qml.device(self.backend, wires=self.wires_update)\n",
        "        self.dev_output = qml.device(self.backend, wires=self.wires_output)\n",
        "\n",
        "        def _circuit_forget(inputs, weights):\n",
        "            qml.templates.AngleEmbedding(inputs, wires=self.wires_forget)\n",
        "            qml.templates.BasicEntanglerLayers(weights, wires=self.wires_forget)\n",
        "            return [qml.expval(qml.PauliZ(wires=w)) for w in self.wires_forget]\n",
        "        self.qlayer_forget = qml.QNode(_circuit_forget, self.dev_forget, interface=\"torch\")\n",
        "\n",
        "        def _circuit_input(inputs, weights):\n",
        "            qml.templates.AngleEmbedding(inputs, wires=self.wires_input)\n",
        "            qml.templates.BasicEntanglerLayers(weights, wires=self.wires_input)\n",
        "            return [qml.expval(qml.PauliZ(wires=w)) for w in self.wires_input]\n",
        "        self.qlayer_input = qml.QNode(_circuit_input, self.dev_input, interface=\"torch\")\n",
        "\n",
        "        def _circuit_update(inputs, weights):\n",
        "            qml.templates.AngleEmbedding(inputs, wires=self.wires_update)\n",
        "            qml.templates.BasicEntanglerLayers(weights, wires=self.wires_update)\n",
        "            return [qml.expval(qml.PauliZ(wires=w)) for w in self.wires_update]\n",
        "        self.qlayer_update = qml.QNode(_circuit_update, self.dev_update, interface=\"torch\")\n",
        "\n",
        "        def _circuit_output(inputs, weights):\n",
        "            qml.templates.AngleEmbedding(inputs, wires=self.wires_output)\n",
        "            qml.templates.BasicEntanglerLayers(weights, wires=self.wires_output)\n",
        "            return [qml.expval(qml.PauliZ(wires=w)) for w in self.wires_output]\n",
        "        self.qlayer_output = qml.QNode(_circuit_output, self.dev_output, interface=\"torch\")\n",
        "\n",
        "        weight_shapes = {\"weights\": (n_qlayers, n_qubits)}\n",
        "        print(f\"weight_shapes = (n_qlayers, n_qubits) = ({n_qlayers}, {n_qubits})\")\n",
        "\n",
        "        self.clayer_in = torch.nn.Linear(self.concat_size, n_qubits)\n",
        "        self.VQC = {\n",
        "            'forget': qml.qnn.TorchLayer(self.qlayer_forget, weight_shapes),\n",
        "            'input': qml.qnn.TorchLayer(self.qlayer_input, weight_shapes),\n",
        "            'update': qml.qnn.TorchLayer(self.qlayer_update, weight_shapes),\n",
        "            'output': qml.qnn.TorchLayer(self.qlayer_output, weight_shapes)\n",
        "        }\n",
        "        self.clayer_out = torch.nn.Linear(self.n_qubits, self.hidden_size)\n",
        "        #self.clayer_out = [torch.nn.Linear(n_qubits, self.hidden_size) for _ in range(4)]\n",
        "\n",
        "    def forward(self, x, init_states=None):\n",
        "        '''\n",
        "        x.shape is (batch_size, seq_length, feature_size)\n",
        "        recurrent_activation -> sigmoid\n",
        "        activation -> tanh\n",
        "        '''\n",
        "        if self.batch_first is True:\n",
        "            batch_size, seq_length, features_size = x.size()\n",
        "        else:\n",
        "            seq_length, batch_size, features_size = x.size()\n",
        "\n",
        "        hidden_seq = []\n",
        "        if init_states is None:\n",
        "            h_t = torch.zeros(batch_size, self.hidden_size).to(device)  # hidden state (output)\n",
        "            c_t = torch.zeros(batch_size, self.hidden_size).to(device)  # cell state\n",
        "        else:\n",
        "            # for now we ignore the fact that in PyTorch you can stack multiple RNNs\n",
        "            # so we take only the first elements of the init_states tuple init_states[0][0], init_states[1][0]\n",
        "            h_t, c_t = init_states\n",
        "            h_t = h_t[0].to(device)\n",
        "            c_t = c_t[0].to(device)\n",
        "\n",
        "        for t in range(seq_length):\n",
        "            # get features from the t-th element in seq, for all entries in the batch\n",
        "            x_t = x[:, t, :]\n",
        "\n",
        "            # Concatenate input and hidden state\n",
        "            v_t = torch.cat((h_t, x_t), dim=1)\n",
        "\n",
        "            # match qubit dimension\n",
        "            y_t = self.clayer_in(v_t)\n",
        "\n",
        "            f_t = torch.sigmoid(self.clayer_out(self.VQC['forget'](y_t)))  # forget block\n",
        "            i_t = torch.sigmoid(self.clayer_out(self.VQC['input'](y_t)))  # input block\n",
        "            g_t = torch.tanh(self.clayer_out(self.VQC['update'](y_t)))  # update block\n",
        "            o_t = torch.sigmoid(self.clayer_out(self.VQC['output'](y_t))) # output block\n",
        "\n",
        "            c_t = (f_t * c_t) + (i_t * g_t)\n",
        "            h_t = o_t * torch.tanh(c_t)\n",
        "\n",
        "            hidden_seq.append(h_t.unsqueeze(0))\n",
        "        hidden_seq = torch.cat(hidden_seq, dim=0)\n",
        "        hidden_seq = hidden_seq.transpose(0, 1).contiguous()\n",
        "        return hidden_seq, (h_t, c_t)\n",
        ""
      ],
      "metadata": {
        "id": "PNASmKpjarI9"
      },
      "execution_count": null,
      "outputs": []
    },
    {
      "cell_type": "code",
      "source": [
        "import torch.nn.functional as F\n",
        "\n",
        "class LSTMTagger(nn.Module):\n",
        "    def __init__(self, embedding_dim, hidden_dim, vocab_size, tagset_size, n_qubits=0):\n",
        "        super(LSTMTagger, self).__init__()\n",
        "        self.hidden_dim = hidden_dim\n",
        "\n",
        "        self.word_embeddings = nn.Embedding(vocab_size, embedding_dim)\n",
        "\n",
        "        if n_qubits > 0:\n",
        "            print(\"Tagger will use Quantum LSTM\")\n",
        "            self.lstm = QLSTM(embedding_dim, hidden_dim, n_qubits=n_qubits).to(device)\n",
        "        else:\n",
        "            print(\"Tagger will use Classical LSTM\")\n",
        "            self.lstm = nn.LSTM(embedding_dim, hidden_dim)\n",
        "\n",
        "        self.hidden2tag = nn.Linear(hidden_dim, tagset_size)\n",
        "\n",
        "    def forward(self, sentences):\n",
        "        # def forward(self, sentences):\n",
        "        embeds = self.word_embeddings(sentences)\n",
        "        lstm_out, _ = self.lstm(embeds.transpose(0, 1))\n",
        "        lstm_out = lstm_out[-1]  # Take the last output of the LSTM\n",
        "        tag_logits = self.hidden2tag(lstm_out)\n",
        "        tag_scores = torch.sigmoid(tag_logits)\n",
        "        return tag_scores.squeeze()\n",
        "\n",
        "        # embeds = self.word_embeddings(sentences)\n",
        "        # lstm_out, _ = self.lstm(embeds.transpose(0, 1))\n",
        "        # lstm_out = lstm_out.transpose(0, 1)\n",
        "        # print(lstm_out.shape)\n",
        "        # tag_logits = self.hidden2tag(lstm_out)\n",
        "        # print(tag_logits.shape)\n",
        "        # tag_scores = torch.sigmoid(tag_logits)\n",
        "        # print(tag_scores.shape)\n",
        "        # return tag_scores.squeeze()"
      ],
      "metadata": {
        "id": "5KwE4BUy2-vi"
      },
      "execution_count": null,
      "outputs": []
    },
    {
      "cell_type": "code",
      "source": [
        "!pip install nltk\n",
        "import nltk\n",
        "nltk.download('punkt')\n"
      ],
      "metadata": {
        "colab": {
          "base_uri": "https://localhost:8080/"
        },
        "id": "YRPYCk79O5RG",
        "outputId": "5eec7584-af66-4f6f-e467-4bf27378af5c"
      },
      "execution_count": null,
      "outputs": [
        {
          "output_type": "stream",
          "name": "stdout",
          "text": [
            "Looking in indexes: https://pypi.org/simple, https://us-python.pkg.dev/colab-wheels/public/simple/\n",
            "Requirement already satisfied: nltk in /usr/local/lib/python3.10/dist-packages (3.8.1)\n",
            "Requirement already satisfied: click in /usr/local/lib/python3.10/dist-packages (from nltk) (8.1.3)\n",
            "Requirement already satisfied: joblib in /usr/local/lib/python3.10/dist-packages (from nltk) (1.2.0)\n",
            "Requirement already satisfied: regex>=2021.8.3 in /usr/local/lib/python3.10/dist-packages (from nltk) (2022.10.31)\n",
            "Requirement already satisfied: tqdm in /usr/local/lib/python3.10/dist-packages (from nltk) (4.65.0)\n"
          ]
        },
        {
          "output_type": "stream",
          "name": "stderr",
          "text": [
            "[nltk_data] Downloading package punkt to /root/nltk_data...\n",
            "[nltk_data]   Unzipping tokenizers/punkt.zip.\n"
          ]
        },
        {
          "output_type": "execute_result",
          "data": {
            "text/plain": [
              "True"
            ]
          },
          "metadata": {},
          "execution_count": 8
        }
      ]
    },
    {
      "cell_type": "code",
      "source": [
        "import os\n",
        "import re\n",
        "from nltk.tokenize import word_tokenize\n",
        "from sklearn.model_selection import train_test_split\n",
        "\n",
        "# Preprocess the text data\n",
        "def preprocess_text(text):\n",
        "    text = re.sub(r\"<.*?>\", \"\", text)  # Remove HTML tags\n",
        "    text = re.sub(r\"[^\\w\\s]\", \"\", text)  # Remove punctuation\n",
        "    text = text.lower()  # Convert to lowercase\n",
        "    return text\n",
        "\n",
        "# Load and preprocess the IMDB dataset\n",
        "def load_imdb_dataset(data_dir):\n",
        "    texts = []\n",
        "    labels = []\n",
        "\n",
        "    for split in [\"train\", \"test\"]:\n",
        "        for label in [\"pos\", \"neg\"]:\n",
        "            folder = os.path.join(data_dir, split, label)\n",
        "            files = os.listdir(folder)\n",
        "            for file in files:\n",
        "                with open(os.path.join(folder, file), \"r\", encoding=\"utf-8\") as f:\n",
        "                    text = f.read()\n",
        "                    text = preprocess_text(text)\n",
        "                    texts.append(text)\n",
        "                    labels.append(1 if label == \"pos\" else 0)\n",
        "\n",
        "    return texts, labels\n",
        "data_dir=\"/content/aclImdb\"\n",
        "# Split the dataset into training and validation sets\n",
        "texts, labels = load_imdb_dataset(data_dir)\n",
        "train_texts, val_texts, train_labels, val_labels = train_test_split(texts, labels, test_size=0.2, random_state=42)\n",
        "\n",
        "# Create a vocabulary\n",
        "vocab = {\"<PAD>\": 0, \"<UNK>\": 1}\n",
        "for text in train_texts:\n",
        "    tokens = word_tokenize(text)\n",
        "    for token in tokens:\n",
        "        if token not in vocab:\n",
        "            vocab[token] = len(vocab)\n",
        "vocab_size=len(vocab)\n",
        "\n",
        "# Convert text to tensor\n",
        "def text_to_tensor(text):\n",
        "    tokens = word_tokenize(text)\n",
        "    indices = [vocab[token] if token in vocab else vocab[\"<UNK>\"] for token in tokens]\n",
        "    return torch.tensor(indices)\n",
        "\n",
        "train_data = [(text_to_tensor(text), label) for text, label in zip(train_texts, train_labels)][0:10]\n",
        "val_data = [(text_to_tensor(text), label) for text, label in zip(val_texts, val_labels)][0:10]\n"
      ],
      "metadata": {
        "id": "SqWH-bCL3tBa"
      },
      "execution_count": null,
      "outputs": []
    },
    {
      "cell_type": "code",
      "source": [
        "train_data = [(text_to_tensor(text), label) for text, label in zip(train_texts, train_labels)][0:20]\n",
        "val_data = [(text_to_tensor(text), label) for text, label in zip(val_texts, val_labels)][0:20]"
      ],
      "metadata": {
        "id": "8KFfM3hdlzKh"
      },
      "execution_count": null,
      "outputs": []
    },
    {
      "cell_type": "code",
      "source": [
        "def collate_fn(batch):\n",
        "    sentences, labels = zip(*batch)\n",
        "    sentences = torch.nn.utils.rnn.pad_sequence(sentences, batch_first=True)\n",
        "    labels = torch.tensor(labels)\n",
        "    return sentences, labels\n"
      ],
      "metadata": {
        "id": "XDfVsQ0tUumC"
      },
      "execution_count": null,
      "outputs": []
    },
    {
      "cell_type": "code",
      "source": [
        "# Convert the dataset to DataLoader\n",
        "train_loader = DataLoader(train_data, batch_size=1, shuffle=True, collate_fn=collate_fn)\n",
        "val_loader = DataLoader(val_data, batch_size=1, shuffle=False, collate_fn=collate_fn)\n"
      ],
      "metadata": {
        "id": "m3AkKofPS9-X"
      },
      "execution_count": null,
      "outputs": []
    },
    {
      "cell_type": "code",
      "source": [
        "train_data"
      ],
      "metadata": {
        "id": "pi2kp9Qxjmmw"
      },
      "execution_count": null,
      "outputs": []
    },
    {
      "cell_type": "code",
      "source": [
        "vocab_size"
      ],
      "metadata": {
        "colab": {
          "base_uri": "https://localhost:8080/"
        },
        "id": "u1vVzAR7RK50",
        "outputId": "da81e7fb-7a05-4d13-959b-2a3ddb0f9089"
      },
      "execution_count": null,
      "outputs": [
        {
          "output_type": "execute_result",
          "data": {
            "text/plain": [
              "192787"
            ]
          },
          "metadata": {},
          "execution_count": 14
        }
      ]
    },
    {
      "cell_type": "code",
      "source": [
        "embedding_dim = 8\n",
        "hidden_dim = 6\n",
        "n_epochs = 10"
      ],
      "metadata": {
        "id": "vxKc8WTHQ_8f"
      },
      "execution_count": null,
      "outputs": []
    },
    {
      "cell_type": "code",
      "source": [
        "# Create the LSTMTagger model\n",
        "\n",
        "history_class = {\n",
        "        'loss': [],\n",
        "        'acc': []\n",
        "    }\n",
        "history_quant = {\n",
        "    'loss': [],\n",
        "    'acc': []\n",
        "}\n",
        "# Training function\n",
        "def train(model, data_loader, optimizer, criterion,hist=history_class):\n",
        "    model.train()\n",
        "    total_loss = 0.0\n",
        "\n",
        "    for sentences, labels in tqdm(data_loader, desc=\"Training\"):\n",
        "        losses = []\n",
        "        preds = []\n",
        "        targets = []\n",
        "        sentences = sentences.to(device)\n",
        "        labels = labels.to(device)\n",
        "\n",
        "        optimizer.zero_grad()\n",
        "\n",
        "        tag_scores = model(sentences)\n",
        "        # print(f'tag is {tag_scores},{tag_scores.shape}')\n",
        "\n",
        "        loss = criterion(tag_scores, labels.float())\n",
        "\n",
        "        loss.backward()\n",
        "        optimizer.step()\n",
        "\n",
        "        total_loss += loss.item()\n",
        "    hist['loss'].append(total_loss / len(data_loader))\n",
        "    return total_loss / len(data_loader)\n",
        "\n",
        "# Testing function\n",
        "def test(model, data_loader, criterion, hist):\n",
        "    model.eval()\n",
        "    total_loss = 0.0\n",
        "    correct = 0\n",
        "\n",
        "    with torch.no_grad():\n",
        "        for sentences, labels in tqdm(data_loader, desc=\"Testing\"):\n",
        "            sentences = sentences.to(device)\n",
        "            labels = labels.to(device)\n",
        "\n",
        "            tag_scores = model(sentences)\n",
        "            loss = criterion(tag_scores, labels.float().unsqueeze(1))\n",
        "\n",
        "            total_loss += loss.item()\n",
        "\n",
        "            # Predict the class based on the sigmoid output\n",
        "            predicted_classes = torch.round(tag_scores)\n",
        "            correct += (predicted_classes == labels).sum().item()\n",
        "\n",
        "    accuracy = correct / len(data_loader.dataset)\n",
        "    hist['acc'].append(accuracy)\n",
        "    return total_loss / len(data_loader), accuracy"
      ],
      "metadata": {
        "id": "Oae6DczRQ15_"
      },
      "execution_count": null,
      "outputs": []
    },
    {
      "cell_type": "code",
      "source": [
        "# Training loop\n",
        "model = LSTMTagger(embedding_dim, hidden_dim, vocab_size, 1).to(device)\n",
        "\n",
        "# Set the loss function and optimizer\n",
        "criterion = nn.MSELoss()\n",
        "optimizer = optim.Adam(model.parameters())\n",
        "# epochs = 100\n",
        "best_val_loss = float(\"inf\")\n",
        "\n",
        "for epoch in range(n_epochs):\n",
        "    print(f\"Epoch {epoch+1}/{n_epochs}\")\n",
        "\n",
        "    train_loss = train(model, train_loader, optimizer, criterion,history_class)\n",
        "    val_loss, val_accuracy = test(model, val_loader, criterion, history_class)\n",
        "\n",
        "    print(f\"Train Loss: {train_loss:.4f}\")\n",
        "    print(f\"Val Loss: {val_loss:.4f}  Val Accuracy: {val_accuracy:.4f}\")\n",
        "\n",
        "    # Save the best model based on validation loss\n",
        "    if val_loss < best_val_loss:\n",
        "        best_val_loss = val_loss\n",
        "        torch.save(model.state_dict(), \"/content/drive/MyDrive/models/lstm_model.pt\")"
      ],
      "metadata": {
        "colab": {
          "base_uri": "https://localhost:8080/"
        },
        "id": "9HjrCPXYfhvQ",
        "outputId": "da1ee3f8-5d23-4010-b60e-566a25c01521"
      },
      "execution_count": null,
      "outputs": [
        {
          "output_type": "stream",
          "name": "stdout",
          "text": [
            "Tagger will use Classical LSTM\n",
            "Epoch 1/10\n"
          ]
        },
        {
          "output_type": "stream",
          "name": "stderr",
          "text": [
            "Training:   0%|          | 0/20 [00:00<?, ?it/s]/usr/local/lib/python3.10/dist-packages/torch/nn/modules/loss.py:536: UserWarning: Using a target size (torch.Size([1])) that is different to the input size (torch.Size([])). This will likely lead to incorrect results due to broadcasting. Please ensure they have the same size.\n",
            "  return F.mse_loss(input, target, reduction=self.reduction)\n",
            "Training: 100%|██████████| 20/20 [00:00<00:00, 287.20it/s]\n",
            "Testing:   0%|          | 0/20 [00:00<?, ?it/s]/usr/local/lib/python3.10/dist-packages/torch/nn/modules/loss.py:536: UserWarning: Using a target size (torch.Size([1, 1])) that is different to the input size (torch.Size([])). This will likely lead to incorrect results due to broadcasting. Please ensure they have the same size.\n",
            "  return F.mse_loss(input, target, reduction=self.reduction)\n",
            "Testing: 100%|██████████| 20/20 [00:00<00:00, 724.61it/s]\n"
          ]
        },
        {
          "output_type": "stream",
          "name": "stdout",
          "text": [
            "Train Loss: 0.2584\n",
            "Val Loss: 0.2567  Val Accuracy: 0.3500\n",
            "Epoch 2/10\n"
          ]
        },
        {
          "output_type": "stream",
          "name": "stderr",
          "text": [
            "Training: 100%|██████████| 20/20 [00:00<00:00, 311.69it/s]\n",
            "Testing: 100%|██████████| 20/20 [00:00<00:00, 738.99it/s]\n"
          ]
        },
        {
          "output_type": "stream",
          "name": "stdout",
          "text": [
            "Train Loss: 0.2539\n",
            "Val Loss: 0.2571  Val Accuracy: 0.3500\n",
            "Epoch 3/10\n"
          ]
        },
        {
          "output_type": "stream",
          "name": "stderr",
          "text": [
            "Training: 100%|██████████| 20/20 [00:00<00:00, 309.30it/s]\n",
            "Testing: 100%|██████████| 20/20 [00:00<00:00, 671.74it/s]\n"
          ]
        },
        {
          "output_type": "stream",
          "name": "stdout",
          "text": [
            "Train Loss: 0.2516\n",
            "Val Loss: 0.2579  Val Accuracy: 0.3500\n",
            "Epoch 4/10\n"
          ]
        },
        {
          "output_type": "stream",
          "name": "stderr",
          "text": [
            "Training: 100%|██████████| 20/20 [00:00<00:00, 294.42it/s]\n",
            "Testing: 100%|██████████| 20/20 [00:00<00:00, 724.04it/s]\n"
          ]
        },
        {
          "output_type": "stream",
          "name": "stdout",
          "text": [
            "Train Loss: 0.2489\n",
            "Val Loss: 0.2583  Val Accuracy: 0.4000\n",
            "Epoch 5/10\n"
          ]
        },
        {
          "output_type": "stream",
          "name": "stderr",
          "text": [
            "Training: 100%|██████████| 20/20 [00:00<00:00, 313.49it/s]\n",
            "Testing: 100%|██████████| 20/20 [00:00<00:00, 705.16it/s]\n"
          ]
        },
        {
          "output_type": "stream",
          "name": "stdout",
          "text": [
            "Train Loss: 0.2470\n",
            "Val Loss: 0.2596  Val Accuracy: 0.4500\n",
            "Epoch 6/10\n"
          ]
        },
        {
          "output_type": "stream",
          "name": "stderr",
          "text": [
            "Training: 100%|██████████| 20/20 [00:00<00:00, 300.40it/s]\n",
            "Testing: 100%|██████████| 20/20 [00:00<00:00, 641.46it/s]\n"
          ]
        },
        {
          "output_type": "stream",
          "name": "stdout",
          "text": [
            "Train Loss: 0.2441\n",
            "Val Loss: 0.2605  Val Accuracy: 0.4000\n",
            "Epoch 7/10\n"
          ]
        },
        {
          "output_type": "stream",
          "name": "stderr",
          "text": [
            "Training: 100%|██████████| 20/20 [00:00<00:00, 298.39it/s]\n",
            "Testing: 100%|██████████| 20/20 [00:00<00:00, 729.58it/s]\n"
          ]
        },
        {
          "output_type": "stream",
          "name": "stdout",
          "text": [
            "Train Loss: 0.2416\n",
            "Val Loss: 0.2612  Val Accuracy: 0.4500\n",
            "Epoch 8/10\n"
          ]
        },
        {
          "output_type": "stream",
          "name": "stderr",
          "text": [
            "Training: 100%|██████████| 20/20 [00:00<00:00, 316.92it/s]\n",
            "Testing: 100%|██████████| 20/20 [00:00<00:00, 688.73it/s]\n"
          ]
        },
        {
          "output_type": "stream",
          "name": "stdout",
          "text": [
            "Train Loss: 0.2394\n",
            "Val Loss: 0.2623  Val Accuracy: 0.4000\n",
            "Epoch 9/10\n"
          ]
        },
        {
          "output_type": "stream",
          "name": "stderr",
          "text": [
            "Training: 100%|██████████| 20/20 [00:00<00:00, 309.70it/s]\n",
            "Testing: 100%|██████████| 20/20 [00:00<00:00, 730.91it/s]\n"
          ]
        },
        {
          "output_type": "stream",
          "name": "stdout",
          "text": [
            "Train Loss: 0.2370\n",
            "Val Loss: 0.2632  Val Accuracy: 0.4000\n",
            "Epoch 10/10\n"
          ]
        },
        {
          "output_type": "stream",
          "name": "stderr",
          "text": [
            "Training: 100%|██████████| 20/20 [00:00<00:00, 318.10it/s]\n",
            "Testing: 100%|██████████| 20/20 [00:00<00:00, 768.02it/s]"
          ]
        },
        {
          "output_type": "stream",
          "name": "stdout",
          "text": [
            "Train Loss: 0.2343\n",
            "Val Loss: 0.2643  Val Accuracy: 0.4500\n"
          ]
        },
        {
          "output_type": "stream",
          "name": "stderr",
          "text": [
            "\n"
          ]
        }
      ]
    },
    {
      "cell_type": "code",
      "source": [
        "# Load the best model\n",
        "model.load_state_dict(torch.load(\"/content/drive/MyDrive/models/lstm_model.pt\"))\n",
        "\n",
        "# Test the model on the test set\n",
        "test_loss, test_accuracy = test(model, val_loader, criterion, history_class)\n",
        "print(f\"Test Loss: {test_loss:.4f}  Test Accuracy: {test_accuracy:.4f}\")"
      ],
      "metadata": {
        "colab": {
          "base_uri": "https://localhost:8080/"
        },
        "id": "ZzQhxZshSVyP",
        "outputId": "9e04a9c1-4d73-45f9-a0ba-0adcfe14c445"
      },
      "execution_count": null,
      "outputs": [
        {
          "output_type": "stream",
          "name": "stderr",
          "text": [
            "Testing: 100%|██████████| 20/20 [00:00<00:00, 664.13it/s]"
          ]
        },
        {
          "output_type": "stream",
          "name": "stdout",
          "text": [
            "Test Loss: 0.2567  Test Accuracy: 0.3500\n"
          ]
        },
        {
          "output_type": "stream",
          "name": "stderr",
          "text": [
            "\n"
          ]
        }
      ]
    },
    {
      "cell_type": "code",
      "source": [
        "def print_result(model):\n",
        "    with torch.no_grad():\n",
        "        input_sentence = val_data[5][0].to(device)\n",
        "        labels = val_data[5][1]\n",
        "        if labels==1:\n",
        "            labels=\"pos\"\n",
        "        else:\n",
        "            labels = \"neg\"\n",
        "        # inputs = prepare_sequence(input_sentence, word_to_ix)\n",
        "        tag_scores = model(input_sentence.unsqueeze(0))\n",
        "        print(f'tag_scores is:{tag_scores}')\n",
        "        # tag_ids = torch.argmax(tag_scores, dim=1).numpy()\n",
        "        if tag_scores>=0.5:\n",
        "            tag_labels=\"pos\"\n",
        "        else:\n",
        "            tag_labels = \"neg\"\n",
        "        # print(f\"Sentence:  {input_sentence}\")\n",
        "        print(f\"Labels:    {labels}\")\n",
        "        print(f\"Predicted: {tag_labels}\")\n",
        "print_result(model)"
      ],
      "metadata": {
        "colab": {
          "base_uri": "https://localhost:8080/"
        },
        "id": "uqS9ZZq9SqXl",
        "outputId": "604612e5-e745-4bf2-c03d-de439aa92923"
      },
      "execution_count": null,
      "outputs": [
        {
          "output_type": "stream",
          "name": "stdout",
          "text": [
            "tag_scores is:0.4915832281112671\n",
            "Labels:    neg\n",
            "Predicted: neg\n"
          ]
        }
      ]
    },
    {
      "cell_type": "code",
      "source": [
        "quant_model = LSTMTagger(embedding_dim, hidden_dim, vocab_size, 1,4).to(device)\n",
        "# Training loop\n",
        "# epochs = 100\n",
        "best_val_loss = float(\"inf\")\n",
        "criterion = nn.MSELoss()\n",
        "optimizer = optim.Adam(quant_model.parameters())\n",
        "for epoch in range(n_epochs):\n",
        "    print(f\"Epoch {epoch+1}/{n_epochs}\")\n",
        "\n",
        "    train_loss = train(quant_model, train_loader, optimizer, criterion, history_quant)\n",
        "    val_loss, val_accuracy = test(quant_model, val_loader, criterion, history_quant)\n",
        "\n",
        "    print(f\"Train Loss: {train_loss:.4f}\")\n",
        "    print(f\"Val Loss: {val_loss:.4f}  Val Accuracy: {val_accuracy:.4f}\")\n",
        "\n",
        "    # Save the best model based on validation loss\n",
        "    if val_loss < best_val_loss:\n",
        "        best_val_loss = val_loss\n",
        "        torch.save(model.state_dict(), \"/content/drive/MyDrive/models/quant_lstm_model.pt\")"
      ],
      "metadata": {
        "id": "7aOHIZr8T5kM",
        "colab": {
          "base_uri": "https://localhost:8080/"
        },
        "outputId": "660a2035-2fcd-4df8-9fdc-0272b23e9f51"
      },
      "execution_count": null,
      "outputs": [
        {
          "output_type": "stream",
          "name": "stdout",
          "text": [
            "Tagger will use Quantum LSTM\n",
            "weight_shapes = (n_qlayers, n_qubits) = (1, 4)\n",
            "Epoch 1/10\n"
          ]
        },
        {
          "output_type": "stream",
          "name": "stderr",
          "text": [
            "Training: 100%|██████████| 20/20 [05:01<00:00, 15.06s/it]\n",
            "Testing: 100%|██████████| 20/20 [02:31<00:00,  7.58s/it]\n"
          ]
        },
        {
          "output_type": "stream",
          "name": "stdout",
          "text": [
            "Train Loss: 0.2399\n",
            "Val Loss: 0.2607  Val Accuracy: 0.4000\n",
            "Epoch 2/10\n"
          ]
        },
        {
          "output_type": "stream",
          "name": "stderr",
          "text": [
            "Training: 100%|██████████| 20/20 [04:47<00:00, 14.38s/it]\n",
            "Testing: 100%|██████████| 20/20 [02:31<00:00,  7.59s/it]\n"
          ]
        },
        {
          "output_type": "stream",
          "name": "stdout",
          "text": [
            "Train Loss: 0.2391\n",
            "Val Loss: 0.2612  Val Accuracy: 0.4000\n",
            "Epoch 3/10\n"
          ]
        },
        {
          "output_type": "stream",
          "name": "stderr",
          "text": [
            "Training: 100%|██████████| 20/20 [04:45<00:00, 14.28s/it]\n",
            "Testing: 100%|██████████| 20/20 [02:31<00:00,  7.58s/it]\n"
          ]
        },
        {
          "output_type": "stream",
          "name": "stdout",
          "text": [
            "Train Loss: 0.2385\n",
            "Val Loss: 0.2618  Val Accuracy: 0.4000\n",
            "Epoch 4/10\n"
          ]
        },
        {
          "output_type": "stream",
          "name": "stderr",
          "text": [
            "Training: 100%|██████████| 20/20 [04:47<00:00, 14.38s/it]\n",
            "Testing: 100%|██████████| 20/20 [02:30<00:00,  7.54s/it]\n"
          ]
        },
        {
          "output_type": "stream",
          "name": "stdout",
          "text": [
            "Train Loss: 0.2380\n",
            "Val Loss: 0.2626  Val Accuracy: 0.4000\n",
            "Epoch 5/10\n"
          ]
        },
        {
          "output_type": "stream",
          "name": "stderr",
          "text": [
            "Training: 100%|██████████| 20/20 [04:49<00:00, 14.46s/it]\n",
            "Testing: 100%|██████████| 20/20 [02:31<00:00,  7.58s/it]\n"
          ]
        },
        {
          "output_type": "stream",
          "name": "stdout",
          "text": [
            "Train Loss: 0.2374\n",
            "Val Loss: 0.2633  Val Accuracy: 0.4000\n",
            "Epoch 6/10\n"
          ]
        },
        {
          "output_type": "stream",
          "name": "stderr",
          "text": [
            "Training: 100%|██████████| 20/20 [04:48<00:00, 14.45s/it]\n",
            "Testing: 100%|██████████| 20/20 [02:31<00:00,  7.55s/it]\n"
          ]
        },
        {
          "output_type": "stream",
          "name": "stdout",
          "text": [
            "Train Loss: 0.2368\n",
            "Val Loss: 0.2639  Val Accuracy: 0.4000\n",
            "Epoch 7/10\n"
          ]
        },
        {
          "output_type": "stream",
          "name": "stderr",
          "text": [
            "Training: 100%|██████████| 20/20 [04:50<00:00, 14.55s/it]\n",
            "Testing: 100%|██████████| 20/20 [02:31<00:00,  7.58s/it]\n"
          ]
        },
        {
          "output_type": "stream",
          "name": "stdout",
          "text": [
            "Train Loss: 0.2362\n",
            "Val Loss: 0.2646  Val Accuracy: 0.4000\n",
            "Epoch 8/10\n"
          ]
        },
        {
          "output_type": "stream",
          "name": "stderr",
          "text": [
            "Training: 100%|██████████| 20/20 [04:51<00:00, 14.59s/it]\n",
            "Testing: 100%|██████████| 20/20 [02:31<00:00,  7.56s/it]\n"
          ]
        },
        {
          "output_type": "stream",
          "name": "stdout",
          "text": [
            "Train Loss: 0.2359\n",
            "Val Loss: 0.2660  Val Accuracy: 0.4000\n",
            "Epoch 9/10\n"
          ]
        },
        {
          "output_type": "stream",
          "name": "stderr",
          "text": [
            "Training: 100%|██████████| 20/20 [04:47<00:00, 14.35s/it]\n",
            "Testing: 100%|██████████| 20/20 [02:33<00:00,  7.68s/it]\n"
          ]
        },
        {
          "output_type": "stream",
          "name": "stdout",
          "text": [
            "Train Loss: 0.2349\n",
            "Val Loss: 0.2668  Val Accuracy: 0.4000\n",
            "Epoch 10/10\n"
          ]
        },
        {
          "output_type": "stream",
          "name": "stderr",
          "text": [
            "Training: 100%|██████████| 20/20 [04:47<00:00, 14.37s/it]\n",
            "Testing: 100%|██████████| 20/20 [02:31<00:00,  7.56s/it]"
          ]
        },
        {
          "output_type": "stream",
          "name": "stdout",
          "text": [
            "Train Loss: 0.2340\n",
            "Val Loss: 0.2673  Val Accuracy: 0.4000\n"
          ]
        },
        {
          "output_type": "stream",
          "name": "stderr",
          "text": [
            "\n"
          ]
        }
      ]
    },
    {
      "cell_type": "code",
      "source": [
        "# Load the best model\n",
        "# quant_model.load_state_dict(torch.load(\"/content/drive/MyDrive/models/quant_lstm_model.pt\"))\n",
        "\n",
        "# Test the model on the test set\n",
        "test_loss, test_accuracy = test(quant_model, val_loader, criterion, history_quant)\n",
        "print(f\"Test Loss: {test_loss:.4f}  Test Accuracy: {test_accuracy:.4f}\")"
      ],
      "metadata": {
        "id": "19hAu6uBUGO_",
        "colab": {
          "base_uri": "https://localhost:8080/"
        },
        "outputId": "7bfe4f74-a2aa-4803-d0eb-86089a92aacd"
      },
      "execution_count": null,
      "outputs": [
        {
          "output_type": "stream",
          "name": "stderr",
          "text": [
            "Testing: 100%|██████████| 20/20 [02:32<00:00,  7.62s/it]"
          ]
        },
        {
          "output_type": "stream",
          "name": "stdout",
          "text": [
            "Test Loss: 0.2673  Test Accuracy: 0.4000\n"
          ]
        },
        {
          "output_type": "stream",
          "name": "stderr",
          "text": [
            "\n"
          ]
        }
      ]
    },
    {
      "cell_type": "code",
      "source": [
        "print_result(quant_model)"
      ],
      "metadata": {
        "id": "GWFGcrm-UQI3",
        "colab": {
          "base_uri": "https://localhost:8080/"
        },
        "outputId": "4d33a3ca-31dd-453d-8697-50d229c9872b"
      },
      "execution_count": null,
      "outputs": [
        {
          "output_type": "stream",
          "name": "stdout",
          "text": [
            "tag_scores is:0.4463239014148712\n",
            "Labels:    neg\n",
            "Predicted: neg\n"
          ]
        }
      ]
    },
    {
      "cell_type": "code",
      "source": [
        "from matplotlib import pyplot as plt\n",
        "\n",
        "def plot_history(history_classical, history_quantum):\n",
        "    loss_c = history_classical['loss']\n",
        "    acc_c = history_classical['acc']\n",
        "    loss_q = history_quantum['loss']\n",
        "    acc_q = history_quantum['acc']\n",
        "    n_epochs = max([len(loss_c), len(loss_q)])\n",
        "    x_epochs = [i for i in range(n_epochs)]\n",
        "\n",
        "    fig, ax1 = plt.subplots()\n",
        "\n",
        "    ax1.set_xlabel(\"Epoch\")\n",
        "    ax1.set_ylabel(\"Loss\")\n",
        "    ax1.plot(loss_c, label=\"Classical LSTM loss\", color='orange', linestyle='dashed')\n",
        "    ax1.plot(loss_q, label=\"Quantum LSTM loss\", color='red', linestyle='solid')\n",
        "\n",
        "    ax2 = ax1.twinx()\n",
        "    ax2.set_ylabel(\"Accuracy\")\n",
        "    ax2.plot(acc_c, label=\"Classical LSTM accuracy\", color='steelblue', linestyle='dashed')\n",
        "    ax2.plot(acc_q, label=\"Quantum LSTM accuracy\", color='blue', linestyle='solid')\n",
        "\n",
        "    plt.title(\"IMDB Training\")\n",
        "    plt.ylim(0., 1.1)\n",
        "    #plt.legend(loc=\"upper right\")\n",
        "    fig.legend(loc=\"upper right\", bbox_to_anchor=(1,0.8), bbox_transform=ax1.transAxes)\n",
        "\n",
        "    plt.savefig(\"pos_training.pdf\")\n",
        "    plt.savefig(\"pos_training.png\")\n",
        "    plt.show()"
      ],
      "metadata": {
        "id": "Na_4650AsHk2"
      },
      "execution_count": null,
      "outputs": []
    },
    {
      "cell_type": "code",
      "source": [
        "plot_history(history_class, history_quant)"
      ],
      "metadata": {
        "colab": {
          "base_uri": "https://localhost:8080/",
          "height": 472
        },
        "id": "ZKp-LeLcsLIY",
        "outputId": "a21dbc96-7a18-4f0a-e4b7-124b76740534"
      },
      "execution_count": null,
      "outputs": [
        {
          "output_type": "display_data",
          "data": {
            "text/plain": [
              "<Figure size 640x480 with 2 Axes>"
            ],
            "image/png": "[encoded data removed]"
          },
          "metadata": {}
        }
      ]
    },
    {
      "cell_type": "code",
      "source": [],
      "metadata": {
        "id": "T_juyyJd-qND"
      },
      "execution_count": null,
      "outputs": []
    }
  ]
}